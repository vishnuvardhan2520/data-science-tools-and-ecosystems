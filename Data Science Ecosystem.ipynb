{
 "cells": [
  {
   "cell_type": "code",
   "execution_count": 3,
   "id": "a6a23b49",
   "metadata": {},
   "outputs": [],
   "source": [
    "# Data Science Tools and Ecosystem"
   ]
  },
  {
   "cell_type": "code",
   "execution_count": 8,
   "id": "64129bf0",
   "metadata": {},
   "outputs": [],
   "source": [
    "#In this notebook, Data Science Tools and Ecosystem are summarized."
   ]
  },
  {
   "cell_type": "code",
   "execution_count": 10,
   "id": "64a0cac2",
   "metadata": {},
   "outputs": [],
   "source": [
    "#Some of the popular languages that Data Scientists use are:\n",
    "#1. Python\n",
    "#2. R\n",
    "#3. Julia\n"
   ]
  },
  {
   "cell_type": "code",
   "execution_count": 12,
   "id": "8b36fb98",
   "metadata": {},
   "outputs": [],
   "source": [
    "#Some of the commonly used libraries used by Data Scientists include:\n",
    "#1. NumPy\n",
    "#2. Pandas\n",
    "#3. Matplotlib\n"
   ]
  },
  {
   "cell_type": "code",
   "execution_count": 18,
   "id": "9539dc3d",
   "metadata": {},
   "outputs": [],
   "source": [
    "#| Data Science Tools |\n",
    "#|--------------------|\n",
    "#| Jupyter Notebook   |\n",
    "#| RStudio            |\n",
    "#| Visual Studio Code |\n"
   ]
  },
  {
   "cell_type": "code",
   "execution_count": 14,
   "id": "67021001",
   "metadata": {},
   "outputs": [],
   "source": [
    "### Below are a few examples of evaluating arithmetic expressions in Python.\n",
    "\n"
   ]
  },
  {
   "cell_type": "code",
   "execution_count": 15,
   "id": "4f7d519a",
   "metadata": {},
   "outputs": [
    {
     "data": {
      "text/plain": [
       "17"
      ]
     },
     "execution_count": 15,
     "metadata": {},
     "output_type": "execute_result"
    }
   ],
   "source": [
    "# This is a simple arithmetic expression to multiply and then add integers\n",
    "result = (3 * 4) + 5\n",
    "result\n"
   ]
  },
  {
   "cell_type": "code",
   "execution_count": 16,
   "id": "8a8a2827",
   "metadata": {},
   "outputs": [
    {
     "data": {
      "text/plain": [
       "3.3333333333333335"
      ]
     },
     "execution_count": 16,
     "metadata": {},
     "output_type": "execute_result"
    }
   ],
   "source": [
    "# This will convert 200 minutes to hours by dividing by 60\n",
    "minutes = 200\n",
    "hours = minutes / 60\n",
    "hours\n"
   ]
  },
  {
   "cell_type": "code",
   "execution_count": 19,
   "id": "8c27137e",
   "metadata": {},
   "outputs": [],
   "source": [
    "#**Objectives:**\n",
    "# List popular languages for Data Science\n",
    "#- Mention commonly used Data Science libraries\n",
    "#- Describe Data Science tools\n"
   ]
  },
  {
   "cell_type": "code",
   "execution_count": null,
   "id": "e8a25487",
   "metadata": {},
   "outputs": [],
   "source": [
    "## Author\n",
    "#R.Siva Rama Krishna"
   ]
  }
 ],
 "metadata": {
  "kernelspec": {
   "display_name": "Python 3 (ipykernel)",
   "language": "python",
   "name": "python3"
  },
  "language_info": {
   "codemirror_mode": {
    "name": "ipython",
    "version": 3
   },
   "file_extension": ".py",
   "mimetype": "text/x-python",
   "name": "python",
   "nbconvert_exporter": "python",
   "pygments_lexer": "ipython3",
   "version": "3.11.3"
  }
 },
 "nbformat": 4,
 "nbformat_minor": 5
}
